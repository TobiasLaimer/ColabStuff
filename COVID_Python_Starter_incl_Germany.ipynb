{
  "nbformat": 4,
  "nbformat_minor": 0,
  "metadata": {
    "colab": {
      "name": "Copy of COVID Python Starter",
      "provenance": [],
      "collapsed_sections": [],
      "include_colab_link": true
    },
    "kernelspec": {
      "name": "python3",
      "display_name": "Python 3"
    }
  },
  "cells": [
    {
      "cell_type": "markdown",
      "metadata": {
        "id": "view-in-github",
        "colab_type": "text"
      },
      "source": [
        "<a href=\"https://colab.research.google.com/github/TobiasLaimer/ColabStuff/blob/master/COVID_Python_Starter_incl_Germany.ipynb\" target=\"_parent\"><img src=\"https://colab.research.google.com/assets/colab-badge.svg\" alt=\"Open In Colab\"/></a>"
      ]
    },
    {
      "cell_type": "markdown",
      "metadata": {
        "id": "0nSZ9uIrEc0G",
        "colab_type": "text"
      },
      "source": [
        "# Exploring COVID-19 Data with Python\n",
        "\n",
        "This notebook is an ongoing effort to allow users to explore COVID-19 data with python. It imports and prepares the data for analysis, as well as provides baseline visuals. \n",
        "\n",
        "All of the data is provided by John's Hopkins [Center for Systems Science and Engineering](https://github.com/CSSEGISandData/COVID-19):  \n",
        "\n",
        "Inspiration for a lot of these visuals comes from [@jburnmurdoch](https://twitter.com/jburnmurdoch) and the Financial Times for their tremendous work with COVID-19 data.\n",
        "\n",
        "Contributions by: \n",
        "[@benbbaldwin](https://twitter.com/benbbaldwin)"
      ]
    },
    {
      "cell_type": "code",
      "metadata": {
        "id": "4wmnvEyFiiCV",
        "colab_type": "code",
        "colab": {}
      },
      "source": [
        "import pandas as pd\n",
        "from plotly import graph_objs as go\n",
        "import plotly.express as px\n",
        "import numpy as np\n",
        "pd.set_option('mode.chained_assignment', None)\n",
        "np.seterr(divide = 'ignore') \n",
        "import math\n",
        "from plotly.subplots import make_subplots\n",
        "import datetime as dt"
      ],
      "execution_count": 0,
      "outputs": []
    },
    {
      "cell_type": "code",
      "metadata": {
        "id": "4-6Yk06WHfAc",
        "colab_type": "code",
        "colab": {}
      },
      "source": [
        "### THIS IS THE DEFAULT LIST OF COUNTRIES WHICH WILL VISUALIZE, PLEASE ADD/CHANGE IF YOU WOULD LIKE TO SEE OTHERS ###\n",
        "countries_of_interest = ['US','Italy','Spain','France','Korea, South','Japan','United Kingdom','Germany']"
      ],
      "execution_count": 0,
      "outputs": []
    },
    {
      "cell_type": "code",
      "metadata": {
        "id": "jNXlLWw-ijB6",
        "colab_type": "code",
        "colab": {}
      },
      "source": [
        "def prep_data():\n",
        "  #READ DATA IN FROM GITHUB\n",
        "  #deaths=pd.read_csv('https://raw.githubusercontent.com/CSSEGISandData/COVID-19/master/csse_covid_19_data/csse_covid_19_time_series/time_series_19-covid-Deaths.csv')\n",
        "\n",
        "  #new deaths file from JHU\n",
        "  deaths=pd.read_csv('https://raw.githubusercontent.com/CSSEGISandData/COVID-19/master/csse_covid_19_data/csse_covid_19_time_series/time_series_covid19_deaths_global.csv')\n",
        "\n",
        "  #UNPIVOT INTO A LONG DF and RENAME COLUMNS\n",
        "  deaths2 = pd.melt(deaths,id_vars=['Province/State','Country/Region','Lat','Long'])\n",
        "  deaths2.rename(columns={\"variable\": \"date\", \"value\": \"deaths\"},inplace=True)\n",
        "\n",
        "  #SET DATE DATATYPE\n",
        "  deaths2['date'] = pd.to_datetime(deaths2['date'])\n",
        "  deaths_agg = pd.DataFrame(deaths2.groupby(['Country/Region','date'])['deaths'].sum()).reset_index()\n",
        "\n",
        "  #LIMIT TO COUNTRIES OF INTEREST\n",
        "  # I DO THIS IN THE CHART BUILDING NOW, THE PREP_DATA() RETURNS ALL COUNTRIES, AGG'D TO THE COUNTRY LEVEL\n",
        "  # countries_of_interest = ['US','China','Italy','Spain','Iran','France','Korea, South','Japan','United Kingdom']\n",
        "  # final = deaths_agg[deaths_agg['Country/Region'].isin(countries_of_interest)]\n",
        "\n",
        "  #GET FIRST DATE WHERE DEATHS > 10 and START COUNTING FROM THERE\n",
        "  final=deaths_agg\n",
        "  final['d10'] = np.where(final['deaths']>= 10,1,0)\n",
        "  final['days_since_10']=final.groupby(by=['Country/Region'])['d10'].cumsum()\n",
        "\n",
        "  #LIMIT TO ONLY FIRST 35 DAYS SINCE 10 DEATHS\n",
        "  final_use = final[final['days_since_10']<=35]\n",
        "\n",
        "  final_use['date_only'] = final_use['date'].dt.date\n",
        "  print(\"Data from John's Hopkins Updated as of: {}\".format(np.max(final_use['date_only'])))\n",
        "  return final_use"
      ],
      "execution_count": 0,
      "outputs": []
    },
    {
      "cell_type": "code",
      "metadata": {
        "id": "uecHqv2e4PBl",
        "colab_type": "code",
        "colab": {}
      },
      "source": [
        "def plot_line_charts(chart_type,countries):\n",
        "  '''Thanks to @benbaldwin for making these charts actually look good.'''\n",
        "  #PLOT USING PLOTLY, LOOP OVER COUNTRIES TO GET ANNOTATION POINTS\n",
        "\n",
        "  df = prep_data()\n",
        "  fig = go.Figure()\n",
        "  annotations = []\n",
        "  i = 0\n",
        "\n",
        "  #LIMIT TO COUNTRIES OF INTEREST\n",
        "  #countries_of_interest = ['US','China','Italy','Spain','Iran','France','Korea, South','Japan','United Kingdom']\n",
        "  final = df[df['Country/Region'].isin(countries)]\n",
        "  final['log_deaths'] = np.log(final['deaths'])\n",
        "\n",
        "  for c in countries_of_interest:\n",
        "      color = px.colors.qualitative.G10[i]\n",
        "\n",
        "      if chart_type == 'log':\n",
        "        y_annot = math.log(final.loc[final['Country/Region'] == c, 'deaths'].values[-1]) / math.log(10)\n",
        "      else:\n",
        "        y_annot = final.loc[final['Country/Region'] == c, 'deaths'].values[-1]\n",
        "      \n",
        "      #print(y_annot)\n",
        "      annotations.append(go.layout.Annotation(\n",
        "          x = final[final['Country/Region']=='{}'.format(c)].iloc[-1]['days_since_10'],\n",
        "          y = y_annot,\n",
        "          text=c,\n",
        "          font=dict(\n",
        "              family=\"Franklin Gothic\",\n",
        "              size=16,\n",
        "              color=\"black\"\n",
        "              ))\n",
        "          )\n",
        "\n",
        "      #make the data in a bad way\n",
        "      tmp = final[final['Country/Region'].isin([c])]\n",
        "      x1 = tmp['days_since_10']\n",
        "      y1 = tmp['deaths']\n",
        "\n",
        "      #this lets us control the lines\n",
        "      fig.add_trace(go.Scatter(x=x1, y=y1, name = c, mode='lines+markers', line=dict(color = color, width=3)))\n",
        "      i += 1\n",
        "\n",
        "  fig.update(layout=go.Layout(showlegend=False, annotations=annotations, height=1000, width=2000))\n",
        "  fig.update_layout(\n",
        "      title={\n",
        "        'text': \"COVID-19 tracker: Deaths since 10th death | {} scale\".format(chart_type),\n",
        "        'y':0.9,\n",
        "        'x':0.5,\n",
        "        'xanchor': 'center',\n",
        "        'yanchor': 'top'},\n",
        "      xaxis_title=\"Days since 10th death\"\n",
        "  )\n",
        "\n",
        "  max = np.max(final['date'])\n",
        "  note = 'Updated ' + str(max.month) + '-' + str(max.day)\n",
        "\n",
        "\n",
        "  fig.add_annotation(\n",
        "          x=0.1,\n",
        "          y=0.89,\n",
        "          xref=\"paper\",\n",
        "          yref=\"paper\",\n",
        "          text=note,\n",
        "          showarrow=False,\n",
        "          font=dict(\n",
        "              family=\"Courier New, monospace\",\n",
        "              size=16,\n",
        "              color=\"red\"\n",
        "              ),\n",
        "          align=\"center\",\n",
        "          ax=20,\n",
        "          ay=-30,\n",
        "          bordercolor=\"black\",\n",
        "          borderwidth=2,\n",
        "          borderpad=4,\n",
        "          bgcolor=\"white\",\n",
        "          opacity=0.8\n",
        "          )\n",
        "\n",
        "  fig.add_annotation(\n",
        "      x=0.1,\n",
        "      y=0.8,\n",
        "      xref=\"paper\",\n",
        "      yref=\"paper\",\n",
        "      text=\"Source: JHU\",\n",
        "      showarrow=False,\n",
        "      font=dict(\n",
        "        family=\"Courier New, monospace\",\n",
        "        size=16,\n",
        "        color=\"red\"\n",
        "        ),\n",
        "  )\n",
        "\n",
        "\n",
        "  #print(fig.layout)\n",
        "  fig.layout.template = 'plotly_white'\n",
        "  fig.layout.template = 'presentation'\n",
        "\n",
        "  fig.update_layout(yaxis_type=chart_type)\n",
        "  fig.show()"
      ],
      "execution_count": 0,
      "outputs": []
    },
    {
      "cell_type": "markdown",
      "metadata": {
        "id": "BfqrSTqHF0Sx",
        "colab_type": "text"
      },
      "source": [
        "Much discussion has been [had](https://twitter.com/stat_sam/status/1243693482516131840) about using log vs. linear scales in these COVID infection and death charts. Many people, even those trained in statistics, have to make a conscious effort to understand the log-scale. This code below lets you visualize the JHU data by passing either \"linear\" or \"log\" to the chart building function."
      ]
    },
    {
      "cell_type": "code",
      "metadata": {
        "id": "u9tx6rLYGTaD",
        "colab_type": "code",
        "outputId": "754cce8f-7e72-4889-cfe2-549593133d71",
        "colab": {
          "base_uri": "https://localhost:8080/",
          "height": 1000
        }
      },
      "source": [
        "plot_line_charts(\"linear\",countries_of_interest)"
      ],
      "execution_count": 9,
      "outputs": [
        {
          "output_type": "stream",
          "text": [
            "Data from John's Hopkins Updated as of: 2020-04-17\n"
          ],
          "name": "stdout"
        },
        {
          "output_type": "display_data",
          "data": {
            "text/html": [
              "<html>\n",
              "<head><meta charset=\"utf-8\" /></head>\n",
              "<body>\n",
              "    <div>\n",
              "            <script src=\"https://cdnjs.cloudflare.com/ajax/libs/mathjax/2.7.5/MathJax.js?config=TeX-AMS-MML_SVG\"></script><script type=\"text/javascript\">if (window.MathJax) {MathJax.Hub.Config({SVG: {font: \"STIX-Web\"}});}</script>\n",
              "                <script type=\"text/javascript\">window.PlotlyConfig = {MathJaxConfig: 'local'};</script>\n",
              "        <script src=\"https://cdn.plot.ly/plotly-latest.min.js\"></script>    \n",
              "            <div id=\"84c28573-e508-4819-8690-06dd789cb861\" class=\"plotly-graph-div\" style=\"height:1000px; width:2000px;\"></div>\n",
              "            <script type=\"text/javascript\">\n",
              "                \n",
              "                    window.PLOTLYENV=window.PLOTLYENV || {};\n",
              "                    \n",
              "                if (document.getElementById(\"84c28573-e508-4819-8690-06dd789cb861\")) {\n",
              "                    Plotly.newPlot(\n",
              "                        '84c28573-e508-4819-8690-06dd789cb861',\n",
              "                        [{\"line\": {\"color\": \"#3366CC\", \"width\": 3}, \"mode\": \"lines+markers\", \"name\": \"US\", \"type\": \"scatter\", \"x\": [0, 0, 0, 0, 0, 0, 0, 0, 0, 0, 0, 0, 0, 0, 0, 0, 0, 0, 0, 0, 0, 0, 0, 0, 0, 0, 0, 0, 0, 0, 0, 0, 0, 0, 0, 0, 0, 0, 0, 0, 0, 0, 1, 2, 3, 4, 5, 6, 7, 8, 9, 10, 11, 12, 13, 14, 15, 16, 17, 18, 19, 20, 21, 22, 23, 24, 25, 26, 27, 28, 29, 30, 31, 32, 33, 34, 35], \"y\": [0, 0, 0, 0, 0, 0, 0, 0, 0, 0, 0, 0, 0, 0, 0, 0, 0, 0, 0, 0, 0, 0, 0, 0, 0, 0, 0, 0, 0, 0, 0, 0, 0, 0, 0, 0, 0, 0, 1, 1, 6, 7, 11, 12, 14, 17, 21, 22, 28, 36, 40, 47, 54, 63, 85, 108, 118, 200, 244, 307, 417, 557, 706, 942, 1209, 1581, 2026, 2467, 2978, 3873, 4757, 5926, 7087, 8407, 9619, 10783, 12722]}, {\"line\": {\"color\": \"#DC3912\", \"width\": 3}, \"mode\": \"lines+markers\", \"name\": \"Italy\", \"type\": \"scatter\", \"x\": [0, 0, 0, 0, 0, 0, 0, 0, 0, 0, 0, 0, 0, 0, 0, 0, 0, 0, 0, 0, 0, 0, 0, 0, 0, 0, 0, 0, 0, 0, 0, 0, 0, 0, 1, 2, 3, 4, 5, 6, 7, 8, 9, 10, 11, 12, 13, 14, 15, 16, 17, 18, 19, 20, 21, 22, 23, 24, 25, 26, 27, 28, 29, 30, 31, 32, 33, 34, 35], \"y\": [0, 0, 0, 0, 0, 0, 0, 0, 0, 0, 0, 0, 0, 0, 0, 0, 0, 0, 0, 0, 0, 0, 0, 0, 0, 0, 0, 0, 0, 0, 1, 2, 3, 7, 10, 12, 17, 21, 29, 34, 52, 79, 107, 148, 197, 233, 366, 463, 631, 827, 827, 1266, 1441, 1809, 2158, 2503, 2978, 3405, 4032, 4825, 5476, 6077, 6820, 7503, 8215, 9134, 10023, 10779, 11591]}, {\"line\": {\"color\": \"#FF9900\", \"width\": 3}, \"mode\": \"lines+markers\", \"name\": \"Spain\", \"type\": \"scatter\", \"x\": [0, 0, 0, 0, 0, 0, 0, 0, 0, 0, 0, 0, 0, 0, 0, 0, 0, 0, 0, 0, 0, 0, 0, 0, 0, 0, 0, 0, 0, 0, 0, 0, 0, 0, 0, 0, 0, 0, 0, 0, 0, 0, 0, 0, 0, 1, 2, 3, 4, 5, 6, 7, 8, 9, 10, 11, 12, 13, 14, 15, 16, 17, 18, 19, 20, 21, 22, 23, 24, 25, 26, 27, 28, 29, 30, 31, 32, 33, 34, 35], \"y\": [0, 0, 0, 0, 0, 0, 0, 0, 0, 0, 0, 0, 0, 0, 0, 0, 0, 0, 0, 0, 0, 0, 0, 0, 0, 0, 0, 0, 0, 0, 0, 0, 0, 0, 0, 0, 0, 0, 0, 0, 0, 1, 2, 3, 5, 10, 17, 28, 35, 54, 55, 133, 195, 289, 342, 533, 623, 830, 1043, 1375, 1772, 2311, 2808, 3647, 4365, 5138, 5982, 6803, 7716, 8464, 9387, 10348, 11198, 11947, 12641, 13341, 14045, 14792, 15447, 16081]}, {\"line\": {\"color\": \"#109618\", \"width\": 3}, \"mode\": \"lines+markers\", \"name\": \"France\", \"type\": \"scatter\", \"x\": [0, 0, 0, 0, 0, 0, 0, 0, 0, 0, 0, 0, 0, 0, 0, 0, 0, 0, 0, 0, 0, 0, 0, 0, 0, 0, 0, 0, 0, 0, 0, 0, 0, 0, 0, 0, 0, 0, 0, 0, 0, 0, 0, 0, 0, 1, 2, 3, 4, 5, 6, 7, 8, 9, 10, 11, 12, 13, 14, 15, 16, 17, 18, 19, 20, 21, 22, 23, 24, 25, 26, 27, 28, 29, 30, 31, 32, 33, 34, 35], \"y\": [0, 0, 0, 0, 0, 0, 0, 0, 0, 0, 0, 0, 0, 0, 0, 0, 0, 0, 0, 0, 0, 0, 0, 0, 1, 1, 1, 1, 1, 1, 1, 1, 1, 1, 1, 2, 2, 2, 2, 2, 3, 4, 4, 6, 9, 11, 19, 19, 33, 48, 48, 79, 91, 91, 149, 149, 149, 244, 451, 563, 676, 862, 1102, 1333, 1698, 1997, 2317, 2611, 3030, 3532, 4414, 5398, 6520, 7574, 8093, 8926, 10343, 10887, 12228, 13215]}, {\"line\": {\"color\": \"#990099\", \"width\": 3}, \"mode\": \"lines+markers\", \"name\": \"Korea, South\", \"type\": \"scatter\", \"x\": [0, 0, 0, 0, 0, 0, 0, 0, 0, 0, 0, 0, 0, 0, 0, 0, 0, 0, 0, 0, 0, 0, 0, 0, 0, 0, 0, 0, 0, 0, 0, 0, 0, 0, 1, 2, 3, 4, 5, 6, 7, 8, 9, 10, 11, 12, 13, 14, 15, 16, 17, 18, 19, 20, 21, 22, 23, 24, 25, 26, 27, 28, 29, 30, 31, 32, 33, 34, 35], \"y\": [0, 0, 0, 0, 0, 0, 0, 0, 0, 0, 0, 0, 0, 0, 0, 0, 0, 0, 0, 0, 0, 0, 0, 0, 0, 0, 0, 0, 0, 1, 2, 2, 6, 8, 10, 12, 13, 13, 16, 17, 28, 28, 35, 35, 42, 44, 50, 53, 54, 60, 66, 66, 72, 75, 75, 81, 84, 91, 94, 102, 111, 111, 120, 126, 131, 139, 144, 152, 158]}, {\"line\": {\"color\": \"#0099C6\", \"width\": 3}, \"mode\": \"lines+markers\", \"name\": \"Japan\", \"type\": \"scatter\", \"x\": [0, 0, 0, 0, 0, 0, 0, 0, 0, 0, 0, 0, 0, 0, 0, 0, 0, 0, 0, 0, 0, 0, 0, 0, 0, 0, 0, 0, 0, 0, 0, 0, 0, 0, 0, 0, 0, 0, 0, 0, 0, 0, 0, 0, 0, 0, 0, 1, 2, 3, 4, 5, 6, 7, 8, 9, 10, 11, 12, 13, 14, 15, 16, 17, 18, 19, 20, 21, 22, 23, 24, 25, 26, 27, 28, 29, 30, 31, 32, 33, 34, 35], \"y\": [0, 0, 0, 0, 0, 0, 0, 0, 0, 0, 0, 0, 0, 0, 0, 0, 0, 0, 0, 0, 0, 0, 1, 1, 1, 1, 1, 1, 1, 1, 1, 1, 1, 1, 1, 2, 4, 4, 5, 6, 6, 6, 6, 6, 6, 6, 6, 10, 10, 15, 16, 19, 22, 22, 27, 29, 29, 29, 33, 35, 41, 42, 43, 45, 47, 49, 52, 54, 54, 56, 57, 62, 63, 77, 77, 85, 92, 93, 94, 99, 99, 108]}, {\"line\": {\"color\": \"#DD4477\", \"width\": 3}, \"mode\": \"lines+markers\", \"name\": \"United Kingdom\", \"type\": \"scatter\", \"x\": [0, 0, 0, 0, 0, 0, 0, 0, 0, 0, 0, 0, 0, 0, 0, 0, 0, 0, 0, 0, 0, 0, 0, 0, 0, 0, 0, 0, 0, 0, 0, 0, 0, 0, 0, 0, 0, 0, 0, 0, 0, 0, 0, 0, 0, 0, 0, 0, 0, 0, 0, 0, 1, 2, 3, 4, 5, 6, 7, 8, 9, 10, 11, 12, 13, 14, 15, 16, 17, 18, 19, 20, 21, 22, 23, 24, 25, 26, 27, 28, 29, 30, 31, 32, 33, 34, 35], \"y\": [0, 0, 0, 0, 0, 0, 0, 0, 0, 0, 0, 0, 0, 0, 0, 0, 0, 0, 0, 0, 0, 0, 0, 0, 0, 0, 0, 0, 0, 0, 0, 0, 0, 0, 0, 0, 0, 0, 0, 0, 0, 0, 0, 1, 2, 2, 3, 4, 6, 8, 8, 8, 21, 21, 56, 56, 72, 138, 178, 234, 282, 336, 423, 466, 580, 761, 1021, 1231, 1411, 1793, 2357, 2926, 3611, 4320, 4943, 5385, 6171, 7111, 7993, 8974, 9892, 10629, 11347, 12129, 12894, 13759, 14607]}, {\"line\": {\"color\": \"#66AA00\", \"width\": 3}, \"mode\": \"lines+markers\", \"name\": \"Germany\", \"type\": \"scatter\", \"x\": [0, 0, 0, 0, 0, 0, 0, 0, 0, 0, 0, 0, 0, 0, 0, 0, 0, 0, 0, 0, 0, 0, 0, 0, 0, 0, 0, 0, 0, 0, 0, 0, 0, 0, 0, 0, 0, 0, 0, 0, 0, 0, 0, 0, 0, 0, 0, 0, 0, 0, 0, 0, 0, 1, 2, 3, 4, 5, 6, 7, 8, 9, 10, 11, 12, 13, 14, 15, 16, 17, 18, 19, 20, 21, 22, 23, 24, 25, 26, 27, 28, 29, 30, 31, 32, 33, 34], \"y\": [0, 0, 0, 0, 0, 0, 0, 0, 0, 0, 0, 0, 0, 0, 0, 0, 0, 0, 0, 0, 0, 0, 0, 0, 0, 0, 0, 0, 0, 0, 0, 0, 0, 0, 0, 0, 0, 0, 0, 0, 0, 0, 0, 0, 0, 0, 0, 2, 2, 3, 3, 7, 9, 11, 17, 24, 28, 44, 67, 84, 94, 123, 157, 206, 267, 342, 433, 533, 645, 775, 920, 1107, 1275, 1444, 1584, 1810, 2016, 2349, 2607, 2767, 2736, 3022, 3194, 3294, 3804, 4052, 4352]}],\n",
              "                        {\"annotations\": [{\"font\": {\"color\": \"black\", \"family\": \"Franklin Gothic\", \"size\": 16}, \"text\": \"US\", \"x\": 35, \"y\": 12722}, {\"font\": {\"color\": \"black\", \"family\": \"Franklin Gothic\", \"size\": 16}, \"text\": \"Italy\", \"x\": 35, \"y\": 11591}, {\"font\": {\"color\": \"black\", \"family\": \"Franklin Gothic\", \"size\": 16}, \"text\": \"Spain\", \"x\": 35, \"y\": 16081}, {\"font\": {\"color\": \"black\", \"family\": \"Franklin Gothic\", \"size\": 16}, \"text\": \"France\", \"x\": 35, \"y\": 13215}, {\"font\": {\"color\": \"black\", \"family\": \"Franklin Gothic\", \"size\": 16}, \"text\": \"Korea, South\", \"x\": 35, \"y\": 158}, {\"font\": {\"color\": \"black\", \"family\": \"Franklin Gothic\", \"size\": 16}, \"text\": \"Japan\", \"x\": 35, \"y\": 108}, {\"font\": {\"color\": \"black\", \"family\": \"Franklin Gothic\", \"size\": 16}, \"text\": \"United Kingdom\", \"x\": 35, \"y\": 14607}, {\"font\": {\"color\": \"black\", \"family\": \"Franklin Gothic\", \"size\": 16}, \"text\": \"Germany\", \"x\": 34, \"y\": 4352}, {\"align\": \"center\", \"ax\": 20, \"ay\": -30, \"bgcolor\": \"white\", \"bordercolor\": \"black\", \"borderpad\": 4, \"borderwidth\": 2, \"font\": {\"color\": \"red\", \"family\": \"Courier New, monospace\", \"size\": 16}, \"opacity\": 0.8, \"showarrow\": false, \"text\": \"Updated 4-17\", \"x\": 0.1, \"xref\": \"paper\", \"y\": 0.89, \"yref\": \"paper\"}, {\"font\": {\"color\": \"red\", \"family\": \"Courier New, monospace\", \"size\": 16}, \"showarrow\": false, \"text\": \"Source: JHU\", \"x\": 0.1, \"xref\": \"paper\", \"y\": 0.8, \"yref\": \"paper\"}], \"height\": 1000, \"showlegend\": false, \"template\": {\"data\": {\"pie\": [{\"automargin\": true, \"type\": \"pie\"}], \"scatter\": [{\"line\": {\"width\": 3}, \"marker\": {\"size\": 9}, \"type\": \"scatter\"}], \"scatter3d\": [{\"line\": {\"width\": 3}, \"marker\": {\"size\": 9}, \"type\": \"scatter3d\"}], \"scattergeo\": [{\"line\": {\"width\": 3}, \"marker\": {\"size\": 9}, \"type\": \"scattergeo\"}], \"scattergl\": [{\"line\": {\"width\": 3}, \"marker\": {\"size\": 9}, \"type\": \"scattergl\"}], \"scatterpolar\": [{\"line\": {\"width\": 3}, \"marker\": {\"size\": 9}, \"type\": \"scatterpolar\"}], \"scatterpolargl\": [{\"line\": {\"width\": 3}, \"marker\": {\"size\": 9}, \"type\": \"scatterpolargl\"}], \"scatterternary\": [{\"line\": {\"width\": 3}, \"marker\": {\"size\": 9}, \"type\": \"scatterternary\"}], \"table\": [{\"cells\": {\"height\": 30}, \"header\": {\"height\": 36}, \"type\": \"table\"}]}, \"layout\": {\"font\": {\"size\": 18}, \"xaxis\": {\"title\": {\"standoff\": 15}}, \"yaxis\": {\"title\": {\"standoff\": 15}}}}, \"title\": {\"text\": \"COVID-19 tracker: Deaths since 10th death | linear scale\", \"x\": 0.5, \"xanchor\": \"center\", \"y\": 0.9, \"yanchor\": \"top\"}, \"width\": 2000, \"xaxis\": {\"title\": {\"text\": \"Days since 10th death\"}}, \"yaxis\": {\"type\": \"linear\"}},\n",
              "                        {\"responsive\": true}\n",
              "                    ).then(function(){\n",
              "                            \n",
              "var gd = document.getElementById('84c28573-e508-4819-8690-06dd789cb861');\n",
              "var x = new MutationObserver(function (mutations, observer) {{\n",
              "        var display = window.getComputedStyle(gd).display;\n",
              "        if (!display || display === 'none') {{\n",
              "            console.log([gd, 'removed!']);\n",
              "            Plotly.purge(gd);\n",
              "            observer.disconnect();\n",
              "        }}\n",
              "}});\n",
              "\n",
              "// Listen for the removal of the full notebook cells\n",
              "var notebookContainer = gd.closest('#notebook-container');\n",
              "if (notebookContainer) {{\n",
              "    x.observe(notebookContainer, {childList: true});\n",
              "}}\n",
              "\n",
              "// Listen for the clearing of the current output cell\n",
              "var outputEl = gd.closest('.output');\n",
              "if (outputEl) {{\n",
              "    x.observe(outputEl, {childList: true});\n",
              "}}\n",
              "\n",
              "                        })\n",
              "                };\n",
              "                \n",
              "            </script>\n",
              "        </div>\n",
              "</body>\n",
              "</html>"
            ]
          },
          "metadata": {
            "tags": []
          }
        }
      ]
    },
    {
      "cell_type": "code",
      "metadata": {
        "id": "4rYbuHGPGU19",
        "colab_type": "code",
        "outputId": "195bf27e-00b9-4259-bfd6-4c138169b605",
        "colab": {
          "base_uri": "https://localhost:8080/",
          "height": 1000
        }
      },
      "source": [
        "plot_line_charts(\"log\",countries_of_interest)"
      ],
      "execution_count": 10,
      "outputs": [
        {
          "output_type": "stream",
          "text": [
            "Data from John's Hopkins Updated as of: 2020-04-17\n"
          ],
          "name": "stdout"
        },
        {
          "output_type": "display_data",
          "data": {
            "text/html": [
              "<html>\n",
              "<head><meta charset=\"utf-8\" /></head>\n",
              "<body>\n",
              "    <div>\n",
              "            <script src=\"https://cdnjs.cloudflare.com/ajax/libs/mathjax/2.7.5/MathJax.js?config=TeX-AMS-MML_SVG\"></script><script type=\"text/javascript\">if (window.MathJax) {MathJax.Hub.Config({SVG: {font: \"STIX-Web\"}});}</script>\n",
              "                <script type=\"text/javascript\">window.PlotlyConfig = {MathJaxConfig: 'local'};</script>\n",
              "        <script src=\"https://cdn.plot.ly/plotly-latest.min.js\"></script>    \n",
              "            <div id=\"f60c38b4-2009-41f6-87e1-1d80659b161c\" class=\"plotly-graph-div\" style=\"height:1000px; width:2000px;\"></div>\n",
              "            <script type=\"text/javascript\">\n",
              "                \n",
              "                    window.PLOTLYENV=window.PLOTLYENV || {};\n",
              "                    \n",
              "                if (document.getElementById(\"f60c38b4-2009-41f6-87e1-1d80659b161c\")) {\n",
              "                    Plotly.newPlot(\n",
              "                        'f60c38b4-2009-41f6-87e1-1d80659b161c',\n",
              "                        [{\"line\": {\"color\": \"#3366CC\", \"width\": 3}, \"mode\": \"lines+markers\", \"name\": \"US\", \"type\": \"scatter\", \"x\": [0, 0, 0, 0, 0, 0, 0, 0, 0, 0, 0, 0, 0, 0, 0, 0, 0, 0, 0, 0, 0, 0, 0, 0, 0, 0, 0, 0, 0, 0, 0, 0, 0, 0, 0, 0, 0, 0, 0, 0, 0, 0, 1, 2, 3, 4, 5, 6, 7, 8, 9, 10, 11, 12, 13, 14, 15, 16, 17, 18, 19, 20, 21, 22, 23, 24, 25, 26, 27, 28, 29, 30, 31, 32, 33, 34, 35], \"y\": [0, 0, 0, 0, 0, 0, 0, 0, 0, 0, 0, 0, 0, 0, 0, 0, 0, 0, 0, 0, 0, 0, 0, 0, 0, 0, 0, 0, 0, 0, 0, 0, 0, 0, 0, 0, 0, 0, 1, 1, 6, 7, 11, 12, 14, 17, 21, 22, 28, 36, 40, 47, 54, 63, 85, 108, 118, 200, 244, 307, 417, 557, 706, 942, 1209, 1581, 2026, 2467, 2978, 3873, 4757, 5926, 7087, 8407, 9619, 10783, 12722]}, {\"line\": {\"color\": \"#DC3912\", \"width\": 3}, \"mode\": \"lines+markers\", \"name\": \"Italy\", \"type\": \"scatter\", \"x\": [0, 0, 0, 0, 0, 0, 0, 0, 0, 0, 0, 0, 0, 0, 0, 0, 0, 0, 0, 0, 0, 0, 0, 0, 0, 0, 0, 0, 0, 0, 0, 0, 0, 0, 1, 2, 3, 4, 5, 6, 7, 8, 9, 10, 11, 12, 13, 14, 15, 16, 17, 18, 19, 20, 21, 22, 23, 24, 25, 26, 27, 28, 29, 30, 31, 32, 33, 34, 35], \"y\": [0, 0, 0, 0, 0, 0, 0, 0, 0, 0, 0, 0, 0, 0, 0, 0, 0, 0, 0, 0, 0, 0, 0, 0, 0, 0, 0, 0, 0, 0, 1, 2, 3, 7, 10, 12, 17, 21, 29, 34, 52, 79, 107, 148, 197, 233, 366, 463, 631, 827, 827, 1266, 1441, 1809, 2158, 2503, 2978, 3405, 4032, 4825, 5476, 6077, 6820, 7503, 8215, 9134, 10023, 10779, 11591]}, {\"line\": {\"color\": \"#FF9900\", \"width\": 3}, \"mode\": \"lines+markers\", \"name\": \"Spain\", \"type\": \"scatter\", \"x\": [0, 0, 0, 0, 0, 0, 0, 0, 0, 0, 0, 0, 0, 0, 0, 0, 0, 0, 0, 0, 0, 0, 0, 0, 0, 0, 0, 0, 0, 0, 0, 0, 0, 0, 0, 0, 0, 0, 0, 0, 0, 0, 0, 0, 0, 1, 2, 3, 4, 5, 6, 7, 8, 9, 10, 11, 12, 13, 14, 15, 16, 17, 18, 19, 20, 21, 22, 23, 24, 25, 26, 27, 28, 29, 30, 31, 32, 33, 34, 35], \"y\": [0, 0, 0, 0, 0, 0, 0, 0, 0, 0, 0, 0, 0, 0, 0, 0, 0, 0, 0, 0, 0, 0, 0, 0, 0, 0, 0, 0, 0, 0, 0, 0, 0, 0, 0, 0, 0, 0, 0, 0, 0, 1, 2, 3, 5, 10, 17, 28, 35, 54, 55, 133, 195, 289, 342, 533, 623, 830, 1043, 1375, 1772, 2311, 2808, 3647, 4365, 5138, 5982, 6803, 7716, 8464, 9387, 10348, 11198, 11947, 12641, 13341, 14045, 14792, 15447, 16081]}, {\"line\": {\"color\": \"#109618\", \"width\": 3}, \"mode\": \"lines+markers\", \"name\": \"France\", \"type\": \"scatter\", \"x\": [0, 0, 0, 0, 0, 0, 0, 0, 0, 0, 0, 0, 0, 0, 0, 0, 0, 0, 0, 0, 0, 0, 0, 0, 0, 0, 0, 0, 0, 0, 0, 0, 0, 0, 0, 0, 0, 0, 0, 0, 0, 0, 0, 0, 0, 1, 2, 3, 4, 5, 6, 7, 8, 9, 10, 11, 12, 13, 14, 15, 16, 17, 18, 19, 20, 21, 22, 23, 24, 25, 26, 27, 28, 29, 30, 31, 32, 33, 34, 35], \"y\": [0, 0, 0, 0, 0, 0, 0, 0, 0, 0, 0, 0, 0, 0, 0, 0, 0, 0, 0, 0, 0, 0, 0, 0, 1, 1, 1, 1, 1, 1, 1, 1, 1, 1, 1, 2, 2, 2, 2, 2, 3, 4, 4, 6, 9, 11, 19, 19, 33, 48, 48, 79, 91, 91, 149, 149, 149, 244, 451, 563, 676, 862, 1102, 1333, 1698, 1997, 2317, 2611, 3030, 3532, 4414, 5398, 6520, 7574, 8093, 8926, 10343, 10887, 12228, 13215]}, {\"line\": {\"color\": \"#990099\", \"width\": 3}, \"mode\": \"lines+markers\", \"name\": \"Korea, South\", \"type\": \"scatter\", \"x\": [0, 0, 0, 0, 0, 0, 0, 0, 0, 0, 0, 0, 0, 0, 0, 0, 0, 0, 0, 0, 0, 0, 0, 0, 0, 0, 0, 0, 0, 0, 0, 0, 0, 0, 1, 2, 3, 4, 5, 6, 7, 8, 9, 10, 11, 12, 13, 14, 15, 16, 17, 18, 19, 20, 21, 22, 23, 24, 25, 26, 27, 28, 29, 30, 31, 32, 33, 34, 35], \"y\": [0, 0, 0, 0, 0, 0, 0, 0, 0, 0, 0, 0, 0, 0, 0, 0, 0, 0, 0, 0, 0, 0, 0, 0, 0, 0, 0, 0, 0, 1, 2, 2, 6, 8, 10, 12, 13, 13, 16, 17, 28, 28, 35, 35, 42, 44, 50, 53, 54, 60, 66, 66, 72, 75, 75, 81, 84, 91, 94, 102, 111, 111, 120, 126, 131, 139, 144, 152, 158]}, {\"line\": {\"color\": \"#0099C6\", \"width\": 3}, \"mode\": \"lines+markers\", \"name\": \"Japan\", \"type\": \"scatter\", \"x\": [0, 0, 0, 0, 0, 0, 0, 0, 0, 0, 0, 0, 0, 0, 0, 0, 0, 0, 0, 0, 0, 0, 0, 0, 0, 0, 0, 0, 0, 0, 0, 0, 0, 0, 0, 0, 0, 0, 0, 0, 0, 0, 0, 0, 0, 0, 0, 1, 2, 3, 4, 5, 6, 7, 8, 9, 10, 11, 12, 13, 14, 15, 16, 17, 18, 19, 20, 21, 22, 23, 24, 25, 26, 27, 28, 29, 30, 31, 32, 33, 34, 35], \"y\": [0, 0, 0, 0, 0, 0, 0, 0, 0, 0, 0, 0, 0, 0, 0, 0, 0, 0, 0, 0, 0, 0, 1, 1, 1, 1, 1, 1, 1, 1, 1, 1, 1, 1, 1, 2, 4, 4, 5, 6, 6, 6, 6, 6, 6, 6, 6, 10, 10, 15, 16, 19, 22, 22, 27, 29, 29, 29, 33, 35, 41, 42, 43, 45, 47, 49, 52, 54, 54, 56, 57, 62, 63, 77, 77, 85, 92, 93, 94, 99, 99, 108]}, {\"line\": {\"color\": \"#DD4477\", \"width\": 3}, \"mode\": \"lines+markers\", \"name\": \"United Kingdom\", \"type\": \"scatter\", \"x\": [0, 0, 0, 0, 0, 0, 0, 0, 0, 0, 0, 0, 0, 0, 0, 0, 0, 0, 0, 0, 0, 0, 0, 0, 0, 0, 0, 0, 0, 0, 0, 0, 0, 0, 0, 0, 0, 0, 0, 0, 0, 0, 0, 0, 0, 0, 0, 0, 0, 0, 0, 0, 1, 2, 3, 4, 5, 6, 7, 8, 9, 10, 11, 12, 13, 14, 15, 16, 17, 18, 19, 20, 21, 22, 23, 24, 25, 26, 27, 28, 29, 30, 31, 32, 33, 34, 35], \"y\": [0, 0, 0, 0, 0, 0, 0, 0, 0, 0, 0, 0, 0, 0, 0, 0, 0, 0, 0, 0, 0, 0, 0, 0, 0, 0, 0, 0, 0, 0, 0, 0, 0, 0, 0, 0, 0, 0, 0, 0, 0, 0, 0, 1, 2, 2, 3, 4, 6, 8, 8, 8, 21, 21, 56, 56, 72, 138, 178, 234, 282, 336, 423, 466, 580, 761, 1021, 1231, 1411, 1793, 2357, 2926, 3611, 4320, 4943, 5385, 6171, 7111, 7993, 8974, 9892, 10629, 11347, 12129, 12894, 13759, 14607]}, {\"line\": {\"color\": \"#66AA00\", \"width\": 3}, \"mode\": \"lines+markers\", \"name\": \"Germany\", \"type\": \"scatter\", \"x\": [0, 0, 0, 0, 0, 0, 0, 0, 0, 0, 0, 0, 0, 0, 0, 0, 0, 0, 0, 0, 0, 0, 0, 0, 0, 0, 0, 0, 0, 0, 0, 0, 0, 0, 0, 0, 0, 0, 0, 0, 0, 0, 0, 0, 0, 0, 0, 0, 0, 0, 0, 0, 0, 1, 2, 3, 4, 5, 6, 7, 8, 9, 10, 11, 12, 13, 14, 15, 16, 17, 18, 19, 20, 21, 22, 23, 24, 25, 26, 27, 28, 29, 30, 31, 32, 33, 34], \"y\": [0, 0, 0, 0, 0, 0, 0, 0, 0, 0, 0, 0, 0, 0, 0, 0, 0, 0, 0, 0, 0, 0, 0, 0, 0, 0, 0, 0, 0, 0, 0, 0, 0, 0, 0, 0, 0, 0, 0, 0, 0, 0, 0, 0, 0, 0, 0, 2, 2, 3, 3, 7, 9, 11, 17, 24, 28, 44, 67, 84, 94, 123, 157, 206, 267, 342, 433, 533, 645, 775, 920, 1107, 1275, 1444, 1584, 1810, 2016, 2349, 2607, 2767, 2736, 3022, 3194, 3294, 3804, 4052, 4352]}],\n",
              "                        {\"annotations\": [{\"font\": {\"color\": \"black\", \"family\": \"Franklin Gothic\", \"size\": 16}, \"text\": \"US\", \"x\": 35, \"y\": 4.104555391240513}, {\"font\": {\"color\": \"black\", \"family\": \"Franklin Gothic\", \"size\": 16}, \"text\": \"Italy\", \"x\": 35, \"y\": 4.064120905829621}, {\"font\": {\"color\": \"black\", \"family\": \"Franklin Gothic\", \"size\": 16}, \"text\": \"Spain\", \"x\": 35, \"y\": 4.206313051935957}, {\"font\": {\"color\": \"black\", \"family\": \"Franklin Gothic\", \"size\": 16}, \"text\": \"France\", \"x\": 35, \"y\": 4.1210671674677295}, {\"font\": {\"color\": \"black\", \"family\": \"Franklin Gothic\", \"size\": 16}, \"text\": \"Korea, South\", \"x\": 35, \"y\": 2.1986570869544226}, {\"font\": {\"color\": \"black\", \"family\": \"Franklin Gothic\", \"size\": 16}, \"text\": \"Japan\", \"x\": 35, \"y\": 2.0334237554869494}, {\"font\": {\"color\": \"black\", \"family\": \"Franklin Gothic\", \"size\": 16}, \"text\": \"United Kingdom\", \"x\": 35, \"y\": 4.164561029265556}, {\"font\": {\"color\": \"black\", \"family\": \"Franklin Gothic\", \"size\": 16}, \"text\": \"Germany\", \"x\": 34, \"y\": 3.6386888866901232}, {\"align\": \"center\", \"ax\": 20, \"ay\": -30, \"bgcolor\": \"white\", \"bordercolor\": \"black\", \"borderpad\": 4, \"borderwidth\": 2, \"font\": {\"color\": \"red\", \"family\": \"Courier New, monospace\", \"size\": 16}, \"opacity\": 0.8, \"showarrow\": false, \"text\": \"Updated 4-17\", \"x\": 0.1, \"xref\": \"paper\", \"y\": 0.89, \"yref\": \"paper\"}, {\"font\": {\"color\": \"red\", \"family\": \"Courier New, monospace\", \"size\": 16}, \"showarrow\": false, \"text\": \"Source: JHU\", \"x\": 0.1, \"xref\": \"paper\", \"y\": 0.8, \"yref\": \"paper\"}], \"height\": 1000, \"showlegend\": false, \"template\": {\"data\": {\"pie\": [{\"automargin\": true, \"type\": \"pie\"}], \"scatter\": [{\"line\": {\"width\": 3}, \"marker\": {\"size\": 9}, \"type\": \"scatter\"}], \"scatter3d\": [{\"line\": {\"width\": 3}, \"marker\": {\"size\": 9}, \"type\": \"scatter3d\"}], \"scattergeo\": [{\"line\": {\"width\": 3}, \"marker\": {\"size\": 9}, \"type\": \"scattergeo\"}], \"scattergl\": [{\"line\": {\"width\": 3}, \"marker\": {\"size\": 9}, \"type\": \"scattergl\"}], \"scatterpolar\": [{\"line\": {\"width\": 3}, \"marker\": {\"size\": 9}, \"type\": \"scatterpolar\"}], \"scatterpolargl\": [{\"line\": {\"width\": 3}, \"marker\": {\"size\": 9}, \"type\": \"scatterpolargl\"}], \"scatterternary\": [{\"line\": {\"width\": 3}, \"marker\": {\"size\": 9}, \"type\": \"scatterternary\"}], \"table\": [{\"cells\": {\"height\": 30}, \"header\": {\"height\": 36}, \"type\": \"table\"}]}, \"layout\": {\"font\": {\"size\": 18}, \"xaxis\": {\"title\": {\"standoff\": 15}}, \"yaxis\": {\"title\": {\"standoff\": 15}}}}, \"title\": {\"text\": \"COVID-19 tracker: Deaths since 10th death | log scale\", \"x\": 0.5, \"xanchor\": \"center\", \"y\": 0.9, \"yanchor\": \"top\"}, \"width\": 2000, \"xaxis\": {\"title\": {\"text\": \"Days since 10th death\"}}, \"yaxis\": {\"type\": \"log\"}},\n",
              "                        {\"responsive\": true}\n",
              "                    ).then(function(){\n",
              "                            \n",
              "var gd = document.getElementById('f60c38b4-2009-41f6-87e1-1d80659b161c');\n",
              "var x = new MutationObserver(function (mutations, observer) {{\n",
              "        var display = window.getComputedStyle(gd).display;\n",
              "        if (!display || display === 'none') {{\n",
              "            console.log([gd, 'removed!']);\n",
              "            Plotly.purge(gd);\n",
              "            observer.disconnect();\n",
              "        }}\n",
              "}});\n",
              "\n",
              "// Listen for the removal of the full notebook cells\n",
              "var notebookContainer = gd.closest('#notebook-container');\n",
              "if (notebookContainer) {{\n",
              "    x.observe(notebookContainer, {childList: true});\n",
              "}}\n",
              "\n",
              "// Listen for the clearing of the current output cell\n",
              "var outputEl = gd.closest('.output');\n",
              "if (outputEl) {{\n",
              "    x.observe(outputEl, {childList: true});\n",
              "}}\n",
              "\n",
              "                        })\n",
              "                };\n",
              "                \n",
              "            </script>\n",
              "        </div>\n",
              "</body>\n",
              "</html>"
            ]
          },
          "metadata": {
            "tags": []
          }
        }
      ]
    },
    {
      "cell_type": "code",
      "metadata": {
        "id": "HCNL18rGinQ4",
        "colab_type": "code",
        "colab": {}
      },
      "source": [
        "def build_map(countries):\n",
        "  '''This function will build a map of the data centralized at each country's Lat/Long.\n",
        "     Currently this only shows the latest death figure for each country \"of interest\", however I am working on animating this over time.\n",
        "  '''\n",
        "#GET LAT and LONG to JOIN OVER \n",
        "  df=prep_data()\n",
        "  deaths=pd.read_csv('https://raw.githubusercontent.com/CSSEGISandData/COVID-19/master/csse_covid_19_data/csse_covid_19_time_series/time_series_covid19_deaths_global.csv')\n",
        "  locs = deaths[(deaths['Country/Region'].isin(countries)) & deaths['Province/State'].isin(['Hubei',np.nan])][['Country/Region','Lat','Long']]\n",
        "  totals = pd.DataFrame(df.groupby(['Country/Region'])['deaths'].max()).reset_index()\n",
        "  totals_map = locs.merge(totals,left_on='Country/Region',right_on='Country/Region',how='inner')\n",
        "\n",
        "  # MAP\n",
        "  token='pk.eyJ1IjoiamV6bGF4IiwiYSI6ImNrOGF4NmVsczAydDgzZW8yMDVsODA3d2IifQ.AUEyPjoEVaZd9zwGKnSzgg'\n",
        "  px.set_mapbox_access_token(token)\n",
        "  fig = px.scatter_mapbox(totals_map, lat=\"Lat\", lon=\"Long\", color=\"deaths\", size=\"deaths\",\n",
        "                    color_continuous_scale=px.colors.cyclical.IceFire, size_max=50, zoom=2)\n",
        "  fig.update(layout=dict(height=1000, width=1700))\n",
        "  fig.show()"
      ],
      "execution_count": 0,
      "outputs": []
    },
    {
      "cell_type": "code",
      "metadata": {
        "id": "dTQc9lSgHHkj",
        "colab_type": "code",
        "outputId": "3b869369-6896-4357-8e5e-bc29766954fb",
        "colab": {
          "base_uri": "https://localhost:8080/",
          "height": 1000
        }
      },
      "source": [
        "build_map(countries=countries_of_interest)"
      ],
      "execution_count": 12,
      "outputs": [
        {
          "output_type": "stream",
          "text": [
            "Data from John's Hopkins Updated as of: 2020-04-17\n"
          ],
          "name": "stdout"
        },
        {
          "output_type": "display_data",
          "data": {
            "text/html": [
              "<html>\n",
              "<head><meta charset=\"utf-8\" /></head>\n",
              "<body>\n",
              "    <div>\n",
              "            <script src=\"https://cdnjs.cloudflare.com/ajax/libs/mathjax/2.7.5/MathJax.js?config=TeX-AMS-MML_SVG\"></script><script type=\"text/javascript\">if (window.MathJax) {MathJax.Hub.Config({SVG: {font: \"STIX-Web\"}});}</script>\n",
              "                <script type=\"text/javascript\">window.PlotlyConfig = {MathJaxConfig: 'local'};</script>\n",
              "        <script src=\"https://cdn.plot.ly/plotly-latest.min.js\"></script>    \n",
              "            <div id=\"553a8039-6dfa-4b9a-b9c6-d4d8552d55b3\" class=\"plotly-graph-div\" style=\"height:1000px; width:1700px;\"></div>\n",
              "            <script type=\"text/javascript\">\n",
              "                \n",
              "                    window.PLOTLYENV=window.PLOTLYENV || {};\n",
              "                    \n",
              "                if (document.getElementById(\"553a8039-6dfa-4b9a-b9c6-d4d8552d55b3\")) {\n",
              "                    Plotly.newPlot(\n",
              "                        '553a8039-6dfa-4b9a-b9c6-d4d8552d55b3',\n",
              "                        [{\"hoverlabel\": {\"namelength\": 0}, \"hovertemplate\": \"deaths=%{marker.color}<br>Lat=%{lat}<br>Long=%{lon}\", \"lat\": [46.2276, 51.0, 43.0, 36.0, 36.0, 40.0, 55.3781, 37.0902], \"legendgroup\": \"\", \"lon\": [2.2137, 9.0, 12.0, 138.0, 128.0, -4.0, -3.4360000000000004, -95.7129], \"marker\": {\"color\": [13215, 4352, 11591, 108, 158, 16081, 14607, 12722], \"coloraxis\": \"coloraxis\", \"size\": [13215, 4352, 11591, 108, 158, 16081, 14607, 12722], \"sizemode\": \"area\", \"sizeref\": 6.4324}, \"mode\": \"markers\", \"name\": \"\", \"showlegend\": false, \"subplot\": \"mapbox\", \"type\": \"scattermapbox\"}],\n",
              "                        {\"coloraxis\": {\"colorbar\": {\"title\": {\"text\": \"deaths\"}}, \"colorscale\": [[0.0, \"#000000\"], [0.0625, \"#001f4d\"], [0.125, \"#003786\"], [0.1875, \"#0e58a8\"], [0.25, \"#217eb8\"], [0.3125, \"#30a4ca\"], [0.375, \"#54c8df\"], [0.4375, \"#9be4ef\"], [0.5, \"#e1e9d1\"], [0.5625, \"#f3d573\"], [0.625, \"#e7b000\"], [0.6875, \"#da8200\"], [0.75, \"#c65400\"], [0.8125, \"#ac2301\"], [0.875, \"#820000\"], [0.9375, \"#4c0000\"], [1.0, \"#040100\"]]}, \"height\": 1000, \"legend\": {\"itemsizing\": \"constant\", \"tracegroupgap\": 0}, \"mapbox\": {\"accesstoken\": \"pk.eyJ1IjoiamV6bGF4IiwiYSI6ImNrOGF4NmVsczAydDgzZW8yMDVsODA3d2IifQ.AUEyPjoEVaZd9zwGKnSzgg\", \"center\": {\"lat\": 43.0869875, \"lon\": 23.258100000000006}, \"domain\": {\"x\": [0.0, 1.0], \"y\": [0.0, 1.0]}, \"zoom\": 2}, \"margin\": {\"t\": 60}, \"template\": {\"data\": {\"bar\": [{\"error_x\": {\"color\": \"#2a3f5f\"}, \"error_y\": {\"color\": \"#2a3f5f\"}, \"marker\": {\"line\": {\"color\": \"#E5ECF6\", \"width\": 0.5}}, \"type\": \"bar\"}], \"barpolar\": [{\"marker\": {\"line\": {\"color\": \"#E5ECF6\", \"width\": 0.5}}, \"type\": \"barpolar\"}], \"carpet\": [{\"aaxis\": {\"endlinecolor\": \"#2a3f5f\", \"gridcolor\": \"white\", \"linecolor\": \"white\", \"minorgridcolor\": \"white\", \"startlinecolor\": \"#2a3f5f\"}, \"baxis\": {\"endlinecolor\": \"#2a3f5f\", \"gridcolor\": \"white\", \"linecolor\": \"white\", \"minorgridcolor\": \"white\", \"startlinecolor\": \"#2a3f5f\"}, \"type\": \"carpet\"}], \"choropleth\": [{\"colorbar\": {\"outlinewidth\": 0, \"ticks\": \"\"}, \"type\": \"choropleth\"}], \"contour\": [{\"colorbar\": {\"outlinewidth\": 0, \"ticks\": \"\"}, \"colorscale\": [[0.0, \"#0d0887\"], [0.1111111111111111, \"#46039f\"], [0.2222222222222222, \"#7201a8\"], [0.3333333333333333, \"#9c179e\"], [0.4444444444444444, \"#bd3786\"], [0.5555555555555556, \"#d8576b\"], [0.6666666666666666, \"#ed7953\"], [0.7777777777777778, \"#fb9f3a\"], [0.8888888888888888, \"#fdca26\"], [1.0, \"#f0f921\"]], \"type\": \"contour\"}], \"contourcarpet\": [{\"colorbar\": {\"outlinewidth\": 0, \"ticks\": \"\"}, \"type\": \"contourcarpet\"}], \"heatmap\": [{\"colorbar\": {\"outlinewidth\": 0, \"ticks\": \"\"}, \"colorscale\": [[0.0, \"#0d0887\"], [0.1111111111111111, \"#46039f\"], [0.2222222222222222, \"#7201a8\"], [0.3333333333333333, \"#9c179e\"], [0.4444444444444444, \"#bd3786\"], [0.5555555555555556, \"#d8576b\"], [0.6666666666666666, \"#ed7953\"], [0.7777777777777778, \"#fb9f3a\"], [0.8888888888888888, \"#fdca26\"], [1.0, \"#f0f921\"]], \"type\": \"heatmap\"}], \"heatmapgl\": [{\"colorbar\": {\"outlinewidth\": 0, \"ticks\": \"\"}, \"colorscale\": [[0.0, \"#0d0887\"], [0.1111111111111111, \"#46039f\"], [0.2222222222222222, \"#7201a8\"], [0.3333333333333333, \"#9c179e\"], [0.4444444444444444, \"#bd3786\"], [0.5555555555555556, \"#d8576b\"], [0.6666666666666666, \"#ed7953\"], [0.7777777777777778, \"#fb9f3a\"], [0.8888888888888888, \"#fdca26\"], [1.0, \"#f0f921\"]], \"type\": \"heatmapgl\"}], \"histogram\": [{\"marker\": {\"colorbar\": {\"outlinewidth\": 0, \"ticks\": \"\"}}, \"type\": \"histogram\"}], \"histogram2d\": [{\"colorbar\": {\"outlinewidth\": 0, \"ticks\": \"\"}, \"colorscale\": [[0.0, \"#0d0887\"], [0.1111111111111111, \"#46039f\"], [0.2222222222222222, \"#7201a8\"], [0.3333333333333333, \"#9c179e\"], [0.4444444444444444, \"#bd3786\"], [0.5555555555555556, \"#d8576b\"], [0.6666666666666666, \"#ed7953\"], [0.7777777777777778, \"#fb9f3a\"], [0.8888888888888888, \"#fdca26\"], [1.0, \"#f0f921\"]], \"type\": \"histogram2d\"}], \"histogram2dcontour\": [{\"colorbar\": {\"outlinewidth\": 0, \"ticks\": \"\"}, \"colorscale\": [[0.0, \"#0d0887\"], [0.1111111111111111, \"#46039f\"], [0.2222222222222222, \"#7201a8\"], [0.3333333333333333, \"#9c179e\"], [0.4444444444444444, \"#bd3786\"], [0.5555555555555556, \"#d8576b\"], [0.6666666666666666, \"#ed7953\"], [0.7777777777777778, \"#fb9f3a\"], [0.8888888888888888, \"#fdca26\"], [1.0, \"#f0f921\"]], \"type\": \"histogram2dcontour\"}], \"mesh3d\": [{\"colorbar\": {\"outlinewidth\": 0, \"ticks\": \"\"}, \"type\": \"mesh3d\"}], \"parcoords\": [{\"line\": {\"colorbar\": {\"outlinewidth\": 0, \"ticks\": \"\"}}, \"type\": \"parcoords\"}], \"pie\": [{\"automargin\": true, \"type\": \"pie\"}], \"scatter\": [{\"marker\": {\"colorbar\": {\"outlinewidth\": 0, \"ticks\": \"\"}}, \"type\": \"scatter\"}], \"scatter3d\": [{\"line\": {\"colorbar\": {\"outlinewidth\": 0, \"ticks\": \"\"}}, \"marker\": {\"colorbar\": {\"outlinewidth\": 0, \"ticks\": \"\"}}, \"type\": \"scatter3d\"}], \"scattercarpet\": [{\"marker\": {\"colorbar\": {\"outlinewidth\": 0, \"ticks\": \"\"}}, \"type\": \"scattercarpet\"}], \"scattergeo\": [{\"marker\": {\"colorbar\": {\"outlinewidth\": 0, \"ticks\": \"\"}}, \"type\": \"scattergeo\"}], \"scattergl\": [{\"marker\": {\"colorbar\": {\"outlinewidth\": 0, \"ticks\": \"\"}}, \"type\": \"scattergl\"}], \"scattermapbox\": [{\"marker\": {\"colorbar\": {\"outlinewidth\": 0, \"ticks\": \"\"}}, \"type\": \"scattermapbox\"}], \"scatterpolar\": [{\"marker\": {\"colorbar\": {\"outlinewidth\": 0, \"ticks\": \"\"}}, \"type\": \"scatterpolar\"}], \"scatterpolargl\": [{\"marker\": {\"colorbar\": {\"outlinewidth\": 0, \"ticks\": \"\"}}, \"type\": \"scatterpolargl\"}], \"scatterternary\": [{\"marker\": {\"colorbar\": {\"outlinewidth\": 0, \"ticks\": \"\"}}, \"type\": \"scatterternary\"}], \"surface\": [{\"colorbar\": {\"outlinewidth\": 0, \"ticks\": \"\"}, \"colorscale\": [[0.0, \"#0d0887\"], [0.1111111111111111, \"#46039f\"], [0.2222222222222222, \"#7201a8\"], [0.3333333333333333, \"#9c179e\"], [0.4444444444444444, \"#bd3786\"], [0.5555555555555556, \"#d8576b\"], [0.6666666666666666, \"#ed7953\"], [0.7777777777777778, \"#fb9f3a\"], [0.8888888888888888, \"#fdca26\"], [1.0, \"#f0f921\"]], \"type\": \"surface\"}], \"table\": [{\"cells\": {\"fill\": {\"color\": \"#EBF0F8\"}, \"line\": {\"color\": \"white\"}}, \"header\": {\"fill\": {\"color\": \"#C8D4E3\"}, \"line\": {\"color\": \"white\"}}, \"type\": \"table\"}]}, \"layout\": {\"annotationdefaults\": {\"arrowcolor\": \"#2a3f5f\", \"arrowhead\": 0, \"arrowwidth\": 1}, \"coloraxis\": {\"colorbar\": {\"outlinewidth\": 0, \"ticks\": \"\"}}, \"colorscale\": {\"diverging\": [[0, \"#8e0152\"], [0.1, \"#c51b7d\"], [0.2, \"#de77ae\"], [0.3, \"#f1b6da\"], [0.4, \"#fde0ef\"], [0.5, \"#f7f7f7\"], [0.6, \"#e6f5d0\"], [0.7, \"#b8e186\"], [0.8, \"#7fbc41\"], [0.9, \"#4d9221\"], [1, \"#276419\"]], \"sequential\": [[0.0, \"#0d0887\"], [0.1111111111111111, \"#46039f\"], [0.2222222222222222, \"#7201a8\"], [0.3333333333333333, \"#9c179e\"], [0.4444444444444444, \"#bd3786\"], [0.5555555555555556, \"#d8576b\"], [0.6666666666666666, \"#ed7953\"], [0.7777777777777778, \"#fb9f3a\"], [0.8888888888888888, \"#fdca26\"], [1.0, \"#f0f921\"]], \"sequentialminus\": [[0.0, \"#0d0887\"], [0.1111111111111111, \"#46039f\"], [0.2222222222222222, \"#7201a8\"], [0.3333333333333333, \"#9c179e\"], [0.4444444444444444, \"#bd3786\"], [0.5555555555555556, \"#d8576b\"], [0.6666666666666666, \"#ed7953\"], [0.7777777777777778, \"#fb9f3a\"], [0.8888888888888888, \"#fdca26\"], [1.0, \"#f0f921\"]]}, \"colorway\": [\"#636efa\", \"#EF553B\", \"#00cc96\", \"#ab63fa\", \"#FFA15A\", \"#19d3f3\", \"#FF6692\", \"#B6E880\", \"#FF97FF\", \"#FECB52\"], \"font\": {\"color\": \"#2a3f5f\"}, \"geo\": {\"bgcolor\": \"white\", \"lakecolor\": \"white\", \"landcolor\": \"#E5ECF6\", \"showlakes\": true, \"showland\": true, \"subunitcolor\": \"white\"}, \"hoverlabel\": {\"align\": \"left\"}, \"hovermode\": \"closest\", \"mapbox\": {\"style\": \"light\"}, \"paper_bgcolor\": \"white\", \"plot_bgcolor\": \"#E5ECF6\", \"polar\": {\"angularaxis\": {\"gridcolor\": \"white\", \"linecolor\": \"white\", \"ticks\": \"\"}, \"bgcolor\": \"#E5ECF6\", \"radialaxis\": {\"gridcolor\": \"white\", \"linecolor\": \"white\", \"ticks\": \"\"}}, \"scene\": {\"xaxis\": {\"backgroundcolor\": \"#E5ECF6\", \"gridcolor\": \"white\", \"gridwidth\": 2, \"linecolor\": \"white\", \"showbackground\": true, \"ticks\": \"\", \"zerolinecolor\": \"white\"}, \"yaxis\": {\"backgroundcolor\": \"#E5ECF6\", \"gridcolor\": \"white\", \"gridwidth\": 2, \"linecolor\": \"white\", \"showbackground\": true, \"ticks\": \"\", \"zerolinecolor\": \"white\"}, \"zaxis\": {\"backgroundcolor\": \"#E5ECF6\", \"gridcolor\": \"white\", \"gridwidth\": 2, \"linecolor\": \"white\", \"showbackground\": true, \"ticks\": \"\", \"zerolinecolor\": \"white\"}}, \"shapedefaults\": {\"line\": {\"color\": \"#2a3f5f\"}}, \"ternary\": {\"aaxis\": {\"gridcolor\": \"white\", \"linecolor\": \"white\", \"ticks\": \"\"}, \"baxis\": {\"gridcolor\": \"white\", \"linecolor\": \"white\", \"ticks\": \"\"}, \"bgcolor\": \"#E5ECF6\", \"caxis\": {\"gridcolor\": \"white\", \"linecolor\": \"white\", \"ticks\": \"\"}}, \"title\": {\"x\": 0.05}, \"xaxis\": {\"automargin\": true, \"gridcolor\": \"white\", \"linecolor\": \"white\", \"ticks\": \"\", \"title\": {\"standoff\": 15}, \"zerolinecolor\": \"white\", \"zerolinewidth\": 2}, \"yaxis\": {\"automargin\": true, \"gridcolor\": \"white\", \"linecolor\": \"white\", \"ticks\": \"\", \"title\": {\"standoff\": 15}, \"zerolinecolor\": \"white\", \"zerolinewidth\": 2}}}, \"width\": 1700},\n",
              "                        {\"responsive\": true}\n",
              "                    ).then(function(){\n",
              "                            \n",
              "var gd = document.getElementById('553a8039-6dfa-4b9a-b9c6-d4d8552d55b3');\n",
              "var x = new MutationObserver(function (mutations, observer) {{\n",
              "        var display = window.getComputedStyle(gd).display;\n",
              "        if (!display || display === 'none') {{\n",
              "            console.log([gd, 'removed!']);\n",
              "            Plotly.purge(gd);\n",
              "            observer.disconnect();\n",
              "        }}\n",
              "}});\n",
              "\n",
              "// Listen for the removal of the full notebook cells\n",
              "var notebookContainer = gd.closest('#notebook-container');\n",
              "if (notebookContainer) {{\n",
              "    x.observe(notebookContainer, {childList: true});\n",
              "}}\n",
              "\n",
              "// Listen for the clearing of the current output cell\n",
              "var outputEl = gd.closest('.output');\n",
              "if (outputEl) {{\n",
              "    x.observe(outputEl, {childList: true});\n",
              "}}\n",
              "\n",
              "                        })\n",
              "                };\n",
              "                \n",
              "            </script>\n",
              "        </div>\n",
              "</body>\n",
              "</html>"
            ]
          },
          "metadata": {
            "tags": []
          }
        }
      ]
    }
  ]
}