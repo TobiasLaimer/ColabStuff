{
  "nbformat": 4,
  "nbformat_minor": 0,
  "metadata": {
    "colab": {
      "name": "ps1_ex2_subm.ipynb",
      "provenance": [],
      "collapsed_sections": [],
      "authorship_tag": "ABX9TyMhk2G5XQw9LqmoTjzBBF50",
      "include_colab_link": true
    },
    "kernelspec": {
      "name": "python3",
      "display_name": "Python 3"
    }
  },
  "cells": [
    {
      "cell_type": "markdown",
      "metadata": {
        "id": "view-in-github",
        "colab_type": "text"
      },
      "source": [
        "<a href=\"https://colab.research.google.com/github/TobiasLaimer/ColabStuff/blob/master/ps1_ex2_subm.ipynb\" target=\"_parent\"><img src=\"https://colab.research.google.com/assets/colab-badge.svg\" alt=\"Open In Colab\"/></a>"
      ]
    },
    {
      "cell_type": "code",
      "metadata": {
        "id": "H89VCXquRLxH",
        "colab_type": "code",
        "colab": {}
      },
      "source": [
        "import numpy as np\n",
        "import matplotlib.pyplot as plt"
      ],
      "execution_count": 0,
      "outputs": []
    },
    {
      "cell_type": "code",
      "metadata": {
        "id": "hDDE7Ysp5tkk",
        "colab_type": "code",
        "outputId": "d422807a-00cb-4c6e-e065-31192107e0eb",
        "colab": {
          "base_uri": "https://localhost:8080/",
          "height": 282
        }
      },
      "source": [
        "#2.1  \"Plot f (x) = x2 for the interval (−5, 5)\"\n",
        "\n",
        "x= np.linspace(-5, 5, 1000) #get an array of 1000 equidistant values from the interval (−5, 5)\n",
        "y= x**2\n",
        "plt.plot (x,y) #plot f(x)"
      ],
      "execution_count": 3,
      "outputs": [
        {
          "output_type": "execute_result",
          "data": {
            "text/plain": [
              "[<matplotlib.lines.Line2D at 0x7f7545e86e80>]"
            ]
          },
          "metadata": {
            "tags": []
          },
          "execution_count": 3
        },
        {
          "output_type": "display_data",
          "data": {
            "image/png": "[encoded data removed]",
            "text/plain": [
              "<Figure size 432x288 with 1 Axes>"
            ]
          },
          "metadata": {
            "tags": [],
            "needs_background": "light"
          }
        }
      ]
    },
    {
      "cell_type": "code",
      "metadata": {
        "id": "fKt_z8YVGiWP",
        "colab_type": "code",
        "colab": {}
      },
      "source": [
        "#2.2 \"Generate a dataset of 100 points drawn at random from a 2D Gaussian with mean (1, 0.5) and standard deviation (0.4, 0.4)\"\n",
        "\n",
        "N=100 #our sample size\n",
        "mean = [1, 0.5]\n",
        "std = [0.4, 0.4] #parametrize 2D Gaussian with mean (1, 0.5) and standard deviation (0.4, 0.4)- easy to change our parameters for the generation of data points later if we like\n",
        "x = np.random.normal(mean[0], std[0], N) #get x data points, Python starts counting with 0\n",
        "y = np.random.normal (mean[1], std[1], N) #get y data points"
      ],
      "execution_count": 0,
      "outputs": []
    },
    {
      "cell_type": "code",
      "metadata": {
        "id": "3yV0HUHO59IB",
        "colab_type": "code",
        "outputId": "aa7c3dda-cee2-4648-bba4-d9bb8ab280e8",
        "colab": {
          "base_uri": "https://localhost:8080/",
          "height": 337
        }
      },
      "source": [
        "#2.3 \"Now, highlight the mean and 1-σ contour lines in a plot with your data points\"\n",
        "\n",
        "#means\n",
        "plt.axvline(x.mean(), color='g') #plot mean of x\n",
        "plt.axhline(y.mean(), color='y') #plot mean of y. use different colors to minimise confusion\n",
        "\n",
        "#1-sigma ellipse\n",
        "def eigsorted(cov):\n",
        "    vals, vecs = np.linalg.eigh(cov)\n",
        "    order = vals.argsort()[::-1]\n",
        "    return vals[order], vecs[:,order]\n",
        "\n",
        "nstd = 1 #number of standard deviations\n",
        "ax = plt.subplot(111) #1x1 grid, first subplot\n",
        "\n",
        "cov = np.cov(x, y)\n",
        "vals, vecs = eigsorted(cov)\n",
        "theta = np.degrees(np.arctan2(*vecs[:,0][::-1]))\n",
        "w, h = 2 * nstd * np.sqrt(vals)\n",
        "ell = Ellipse(xy=(np.mean(x), np.mean(y)),\n",
        "              width=w, height=h,\n",
        "              angle=theta, color='red', linewidth=2.0)\n",
        "ell.set_facecolor('none')\n",
        "ax.add_artist(ell)\n",
        "\n",
        "\n",
        "plt.scatter(x, y) #now plot x,y and ell\n",
        "plt.show() #we see that there are considerably less than 68% of our sample inside the ellipse. This is expected since we were supposed to draw a 1-sigma error ellipse, not a confidence ellipse!\n",
        "\n",
        "\n",
        "#now, sanity checks:\n",
        "\n",
        "#did we really get good Gaussians?\n",
        "i=k=0\n",
        "for i in range(0,N):\n",
        "  if x.mean()-x.std()<x[i]<x.mean()+x.std():\n",
        "    k+=1\n",
        "  i+=1\n",
        "dev_1s= k/N #68% of the data points should be within one std of the mean- of course there is noise with only 100 data points.\n",
        "\n",
        "print (x.mean(), x.std(), y.mean(), y.std(), dev_1s, \" should be close to [1, 0.4, 0.5, 0.4, 0.68]\") #data are close to our specified Gaussian- of course there is noise with only 100 data points.\n",
        "\n",
        "#/end"
      ],
      "execution_count": 44,
      "outputs": [
        {
          "output_type": "stream",
          "text": [
            "/usr/local/lib/python3.6/dist-packages/ipykernel_launcher.py:11: MatplotlibDeprecationWarning: Adding an axes using the same arguments as a previous axes currently reuses the earlier instance.  In a future version, a new instance will always be created and returned.  Meanwhile, this warning can be suppressed, and the future behavior ensured, by passing a unique label to each axes instance.\n",
            "  # This is added back by InteractiveShellApp.init_path()\n"
          ],
          "name": "stderr"
        },
        {
          "output_type": "display_data",
          "data": {
            "image/png": "[encoded data removed]",
            "text/plain": [
              "<Figure size 432x288 with 1 Axes>"
            ]
          },
          "metadata": {
            "tags": [],
            "needs_background": "light"
          }
        },
        {
          "output_type": "stream",
          "text": [
            "1.0078542579966996 0.40742567329397095 0.5331515522027491 0.3859526627887832 0.68  should be close to [1, 0.4, 0.5, 0.4, 0.68]\n"
          ],
          "name": "stdout"
        }
      ]
    }
  ]
}