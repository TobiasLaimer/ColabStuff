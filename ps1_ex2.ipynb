{
  "nbformat": 4,
  "nbformat_minor": 0,
  "metadata": {
    "colab": {
      "name": "ps1_ex2.ipynb",
      "provenance": [],
      "collapsed_sections": [],
      "authorship_tag": "ABX9TyOR9drQ7JJgln2n+69myA/H",
      "include_colab_link": true
    },
    "kernelspec": {
      "name": "python3",
      "display_name": "Python 3"
    }
  },
  "cells": [
    {
      "cell_type": "markdown",
      "metadata": {
        "id": "view-in-github",
        "colab_type": "text"
      },
      "source": [
        "<a href=\"https://colab.research.google.com/github/TobiasLaimer/ColabStuff/blob/master/ps1_ex2.ipynb\" target=\"_parent\"><img src=\"https://colab.research.google.com/assets/colab-badge.svg\" alt=\"Open In Colab\"/></a>"
      ]
    },
    {
      "cell_type": "code",
      "metadata": {
        "id": "H89VCXquRLxH",
        "colab_type": "code",
        "colab": {}
      },
      "source": [
        "import numpy as np\n",
        "import matplotlib as mpl\n",
        "import matplotlib.pyplot"
      ],
      "execution_count": 0,
      "outputs": []
    },
    {
      "cell_type": "code",
      "metadata": {
        "id": "hDDE7Ysp5tkk",
        "colab_type": "code",
        "outputId": "c9430e46-c94e-4d1d-b3a4-55170138eda2",
        "colab": {
          "base_uri": "https://localhost:8080/",
          "height": 282
        }
      },
      "source": [
        "x= np.linspace(-5, 5, 1000) #get 1000 sampled values from interval (−5, 5)\n",
        "y= x**2\n",
        "plt.plot (x,y) #plot f(x)"
      ],
      "execution_count": 0,
      "outputs": [
        {
          "output_type": "execute_result",
          "data": {
            "text/plain": [
              "[<matplotlib.lines.Line2D at 0x7f5f41f45e48>]"
            ]
          },
          "metadata": {
            "tags": []
          },
          "execution_count": 99
        },
        {
          "output_type": "display_data",
          "data": {
            "image/png": "[encoded data removed]",
            "text/plain": [
              "<Figure size 432x288 with 1 Axes>"
            ]
          },
          "metadata": {
            "tags": [],
            "needs_background": "light"
          }
        }
      ]
    },
    {
      "cell_type": "code",
      "metadata": {
        "id": "3yV0HUHO59IB",
        "colab_type": "code",
        "outputId": "c833d1cd-ab50-4a00-85fc-c945bb43df54",
        "colab": {
          "base_uri": "https://localhost:8080/",
          "height": 300
        }
      },
      "source": [
        "mean = [1, 0.5]\n",
        "std = [0.4, 0.4] #initialize 2D Gaussian with mean (1, 0.5) and standard deviation (0.4, 0.4)- if we want to change the Gaussian parameters later, this way it's easy\n",
        "x = np.random.normal(mean[0], std[0], 100) #get 1st value for mean and std, Python starts counting with 0. we want 100 values\n",
        "y = np.random.normal (mean[1], std[1], 100) #get 2nd values\n",
        "plt.axvline(x.mean(), color='r') #get mean of x\n",
        "plt.axvline(x.mean()-x.std(), color='g') #get 1sigma- lines for x\n",
        "plt.axvline(x.mean()+x.std(), color='g')\n",
        "plt.axhline(y.mean(), color='y') #get mean of y\n",
        "plt.axhline(y.mean()-y.std(), color='c') #get 1sigma- lines for y\n",
        "plt.axhline(y.mean()+y.std(), color='c')\n",
        "#plt.contour(x, y)\n",
        "#x, y = np.meshgrid(x, y)\n",
        "#z = np.sqrt((x-x.mean())**2+(y-y.mean())**2)\n",
        "#plt.contour(x, y, z, 1)\n",
        "plt.scatter (x,y) #show scatterplot of x,y\n",
        "#contours = plt.contour(x, y, z)\n",
        "#plt.show()\n",
        "print (x.mean(), x.std(), y.mean(), y.std(), np.corrcoef(x,y)) #sanity check: data are close to our specified Gaussian. of course there is noise with only 100 data points."
      ],
      "execution_count": 0,
      "outputs": [
        {
          "output_type": "stream",
          "text": [
            "1.0082095218244704 0.3990834599007001 0.5699929949344569 0.4372001401866282 [[ 1.         -0.03849612]\n",
            " [-0.03849612  1.        ]]\n"
          ],
          "name": "stdout"
        },
        {
          "output_type": "display_data",
          "data": {
            "image/png": "[encoded data removed]",
            "text/plain": [
              "<Figure size 432x288 with 1 Axes>"
            ]
          },
          "metadata": {
            "tags": [],
            "needs_background": "light"
          }
        }
      ]
    },
    {
      "cell_type": "code",
      "metadata": {
        "id": "KPno6Jmb6dWw",
        "colab_type": "code",
        "colab": {}
      },
      "source": [
        ""
      ],
      "execution_count": 0,
      "outputs": []
    }
  ]
}